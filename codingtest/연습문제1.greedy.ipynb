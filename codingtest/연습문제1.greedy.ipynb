{
 "cells": [
  {
   "cell_type": "markdown",
   "metadata": {},
   "source": [
    "### 1. 모험가 길드\n",
    "\n",
    "공포도가 X인 모험가는 반드시 X명 이상으로 구성한 모험가 그룹에 참여해야 여행을 떠날 수 있다.\n",
    "N명에 대한 모험가 정보가 주어졌을 때, 최대 몇 개의 모험가 그룹을 만들 수 있는가?\n",
    "\n",
    "이때, 공포도가 X인 모험가는 반드시 X명 이상으로 구성한 모험가 그룹에 참여해야 여행을 떠날 수 있다.\n",
    "첫째 줄에 모험가의 수 N이 주어진다.(1<=N<=100,000)\n",
    "둘째 줄에 각 모험가의 공포도의 값을 N 이하의 수로 주어지며, 각 자연수는 공백으로 구분한다.\n",
    "또한 몇 명의 모험가는 마을에 그대로 남아 있어도 되기 때문에, 모든 모험가를 특정한 그룹에 넣을 필요는 없다\n",
    "\n",
    "입력예시\n",
    "5\n",
    "2 3 1 2 2\n",
    "\n",
    "출력예시\n",
    "2\n",
    "\n",
    "\n",
    "시간제한 1초, 메모리 제한 128M, 기출: 핵심유형"
   ]
  },
  {
   "cell_type": "code",
   "execution_count": null,
   "metadata": {},
   "outputs": [
    {
     "name": "stdout",
     "output_type": "stream",
     "text": [
      "2\n"
     ]
    }
   ],
   "source": [
    "# 나의 풀이\n",
    "N = input()\n",
    "member = list(map(int, input().split()))\n",
    "member.sort(reverse=True)\n",
    "\n",
    "count= 0\n",
    "\n",
    "while member:\n",
    "    i=member[0]\n",
    "    if len(member)==i:\n",
    "        count += 1\n",
    "        member = []\n",
    "    elif len(member)>i:\n",
    "        member = member[i:]\n",
    "        count += 1\n",
    "    else:\n",
    "        member=member[1:]\n",
    "\n",
    "print(count)"
   ]
  },
  {
   "cell_type": "markdown",
   "metadata": {},
   "source": [
    "### 문제풀이\n",
    "1. 내림차순이 아니라 오름차순으로 시작해야 최소한의 모험가의 수만 포함해 최대한 많은 그룹을 구성할 수 있다.\n",
    "2. 4 1 1 1 1의 경우, 나의 풀이는 2개지만, 오름차순 정렬하면 4개의 그룹을 만들 수 있다."
   ]
  },
  {
   "cell_type": "code",
   "execution_count": null,
   "metadata": {},
   "outputs": [],
   "source": [
    "# 교재 답안\n",
    "N = input()\n",
    "member = list(map(int, input().split()))\n",
    "member.sort()\n",
    "\n",
    "result=0 # 총 그룹의 수\n",
    "count=0 # 현재 그룹에 포함된 모험가의 수\n",
    "\n",
    "for i in member:\n",
    "    count += 1\n",
    "    if count >= i:\n",
    "        result += 1\n",
    "        count = 0\n",
    "\n",
    "print(result)"
   ]
  },
  {
   "cell_type": "markdown",
   "metadata": {},
   "source": [
    "### 2. 곱하기 혹은 더하기\n",
    "\n",
    "각 자리가 숫자(0~9)로 이루어진 문자열 S가 주어졌을 때, 숫자 사이에 X혹은 +연산자를 넣어 만들 수 있는 가장 큰 수를 구해라.\n",
    "단, +보다 X를 먼저 계산하는 일반적인 방식과 달리, 왼쪽에서부터 순서대로 이루어진다 (1<=S<=20)\n",
    "\n",
    "입력예시\n",
    "02984\n",
    "\n",
    "출력예시\n",
    "576\n",
    "\n",
    "시간제한 1초, 메모리 제한 128M, 기출: Facebook 인터뷰"
   ]
  },
  {
   "cell_type": "code",
   "execution_count": null,
   "metadata": {},
   "outputs": [
    {
     "name": "stdout",
     "output_type": "stream",
     "text": [
      "576\n"
     ]
    }
   ],
   "source": [
    "# 나의 풀이\n",
    "# 1. 0이 나올때만 + 나머지는 X 해야 큰 값이 나올 것이다\n",
    "# 2. 왼쪽부터 계산하기 때문에 앞의 합이 0보다 크면 0이 와도 *가 나올 수 있다.\n",
    "# 3. 합의 누계가 0이 아니라면 X를 하면 된다\n",
    "\n",
    "s = input()\n",
    "result = 0\n",
    "for i in s:\n",
    "    if result*int(i):\n",
    "        result *= int(i)\n",
    "    else:\n",
    "        result += int(i)\n",
    "\n",
    "print(result)"
   ]
  },
  {
   "cell_type": "markdown",
   "metadata": {},
   "source": [
    "### 문제풀이\n",
    "1. 1을 생각 못했다. 1을 만나면 곱하기보다 더하기가 유리하다.\n",
    "2. 바로 곱하지 않고, 두 수의 크기를 확인하고 연산"
   ]
  },
  {
   "cell_type": "code",
   "execution_count": 8,
   "metadata": {},
   "outputs": [
    {
     "name": "stdout",
     "output_type": "stream",
     "text": [
      "180\n"
     ]
    }
   ],
   "source": [
    "s = input()\n",
    "result = int(s[0])\n",
    "for i in range(1,len(s)):\n",
    "    num = int(s[i])\n",
    "    if num <=1 or result <= 1:\n",
    "        result += num\n",
    "    else:\n",
    "        result *= num\n",
    "\n",
    "print(result)"
   ]
  },
  {
   "cell_type": "markdown",
   "metadata": {},
   "source": [
    "### 3. 문자열 뒤집기\n",
    "\n",
    "0과 1로만 이루어진 문자열 S, S의 길이는 100만보다 작다.\n",
    "S에 있는 모든 숫자를 전부 같게 만들려고 한다. \n",
    "연속된 하나 이상의 숫자를 뒤집어 (0을 1로 또는 1을 0으로) 모두 같은 숫자로 만들 때 최소 횟수는?\n",
    "\n",
    "입력 예시\n",
    "0001100\n",
    "\n",
    "출력예시\n",
    "1\n",
    "\n",
    "시간제한 2초, 메모리제한 128MB, 기출: 핵심유형\n"
   ]
  },
  {
   "cell_type": "code",
   "execution_count": 5,
   "metadata": {},
   "outputs": [
    {
     "name": "stdout",
     "output_type": "stream",
     "text": [
      "1\n"
     ]
    }
   ],
   "source": [
    "# 나의 풀이\n",
    "s = input()\n",
    "\n",
    "from collections import Counter\n",
    "n = Counter(s)\n",
    "n0=n.get('0',0)\n",
    "n1=n.get('1',0)\n",
    "\n",
    "min_num = '0' if n0<n1 else '1'\n",
    "\n",
    "result = s[0]\n",
    "num = s[0]\n",
    "for i in range(1,len(s)):\n",
    "    if num == s[i]:\n",
    "        result += s[i]\n",
    "    else:\n",
    "        result = result+\" \"+s[i]\n",
    "        num = s[i]\n",
    "\n",
    "result = result.split()\n",
    "count = 0\n",
    "for i in result:\n",
    "    if i[0] == min_num:\n",
    "        count += 1\n",
    "\n",
    "print(count)\n"
   ]
  },
  {
   "cell_type": "markdown",
   "metadata": {},
   "source": [
    "### 문제 풀이\n",
    "\n",
    "1. 반례 : 11001100110011000001\n",
    "2. for문 안에서 문자열을 누적 연결하면, 문자열 길이가 매우 긴 경우 시간복잡도가 O(n2)로 증가할 수 있다.\n",
    "3. 전부 0으로 바꿀때와 전부 1로 바꿀때를 모두 계산해서 더 적은 횟수를 선택한다.\n"
   ]
  },
  {
   "cell_type": "code",
   "execution_count": null,
   "metadata": {},
   "outputs": [
    {
     "name": "stdout",
     "output_type": "stream",
     "text": [
      "2\n"
     ]
    }
   ],
   "source": [
    "data = input()\n",
    "count0 = 0\n",
    "count1 = 0\n",
    "\n",
    "# 0으로 시작하면 1이 1번 증가, 1로 시작하면 0으로 바꿀꺼니까 0이 1번 증가\n",
    "if data[0] == '1':\n",
    "    count0 += 1\n",
    "else:\n",
    "    count1 += 1\n",
    "\n",
    "for i in range(len(data)-1):\n",
    "    if data[i] != data[i+1]:\n",
    "        if data[i+1] == '1':\n",
    "            count0 += 1\n",
    "        else:\n",
    "            count1 += 1\n",
    "\n",
    "print(min(count0, count1))"
   ]
  },
  {
   "cell_type": "markdown",
   "metadata": {},
   "source": [
    "### 4. 만들 수 없는 금액\n",
    "\n",
    "N개의 동전을 가지고 있을 때, N개의 동전을 이용하여 만들 수 없는 양의 정수 금액 중 최솟값을 구해라\n",
    "첫째 줄에는 동전의 개수를 나타내는 양의 정수 N이 주어 진다.(1<=N<=1,000)\n",
    "둘째 줄에는 각 동전의 화폐 단위를 나타내는 N개의 자연수가 주어지며, 각 자연수는 공백으로 구분한다. 이때, 각 화폐 단위는 1,000,000이하의 자연수이다.\n",
    "\n",
    "입력예시\n",
    "5\n",
    "3 2 1 1 9\n",
    "\n",
    "출력예시\n",
    "8"
   ]
  },
  {
   "cell_type": "code",
   "execution_count": 38,
   "metadata": {},
   "outputs": [
    {
     "name": "stdout",
     "output_type": "stream",
     "text": [
      "coins:[1, 2, 4]\n",
      "array:[1, 2]\n",
      "sum_list:[1, 2, 3]\n",
      "result:4\n"
     ]
    }
   ],
   "source": [
    "# 나의 풀이\n",
    "from itertools import combinations\n",
    "n = input()\n",
    "coins = list(map(int,input().split()))\n",
    "coins.sort()\n",
    "print(f\"coins:{coins}\")\n",
    "\n",
    "if coins[0]>1:\n",
    "    result = coins[0]-1\n",
    "else:\n",
    "    for i in range(len(coins)-1):\n",
    "        if coins[i+1]-coins[i] > 1:\n",
    "            array= coins[:i+1]\n",
    "            print(f\"array:{array}\")\n",
    "            sum_list = set()\n",
    "            for j in range(1,len(array)+1):\n",
    "                sum_list.update(set(map(sum,combinations(array,j))))\n",
    "            sum_list = list(sum_list)\n",
    "            sum_list.sort()\n",
    "            print(f\"sum_list:{sum_list}\")\n",
    "\n",
    "            if coins[i+1]> sum_list[-1]:\n",
    "                result = sum_list[-1] + 1\n",
    "            else:\n",
    "                result = coins[-1] + 1\n",
    "print(f\"result:{result}\")"
   ]
  },
  {
   "cell_type": "markdown",
   "metadata": {},
   "source": [
    "### 문제 풀이\n",
    "1. 문제해결 아이디어: 현재 상태를 1부터  target-1까지 모든 금액을 만들 수 있는 상태\n",
    "2. 조합을 사용하면 시간 복잡도가 O(2^N)이 된다.\n",
    "(N이 커지면 계산 시간이 매우 오래 걸린다.)\n",
    "3. 모든 가능한 조합의 합을 저장해야 해서 메모리 사용량이 매우 크다\n",
    "4. 연속된 동전들 사이의 차이만 보는 방식으로는 모든 경우를 커버하지 못할 수 있다.\n",
    "5. 반례: [1 2 4] => 정답은 8이나 4가 나옴\n"
   ]
  },
  {
   "cell_type": "code",
   "execution_count": null,
   "metadata": {},
   "outputs": [
    {
     "name": "stdout",
     "output_type": "stream",
     "text": [
      "8\n"
     ]
    }
   ],
   "source": [
    "n=int(input())\n",
    "# 3 2 1 1 9\n",
    "\n",
    "data= list(map(int,(input().split())))\n",
    "data.sort()\n",
    "# 1 1 2 3 9\n",
    "\n",
    "target = 1\n",
    "for x in data:\n",
    "    # 1<1, 2<1, 3<2, 5<3, 8<9\n",
    "    if target < x:\n",
    "        break\n",
    "    target += x\n",
    "    # target = 1+1=2, 2+1=3, 3+2=5 5+3=8\n",
    "print(target)"
   ]
  },
  {
   "cell_type": "markdown",
   "metadata": {},
   "source": [
    "### 5. 볼링공 고르기\n",
    "\n",
    "\n",
    "N개의 볼링공은 1에서 M 사이의 자연수 무게를 가진다. 각 공의 번호는 차례대로 부여된다.\n",
    "서로 다른 무게의 2개의 볼링공을 구하는 조합의 경우의 수는?\n",
    "\n",
    "첫째 줄에 볼링공의 개수 N, 공의 최대 무게 M이 공백으로 구분되어 각각 자연수 형태로 주어진다.\n",
    "(1<=N<=1,000, 1<=M<=10)\n",
    "둘째 줄에 각 볼링공의 무게 K가 공백으로 구분되어 순서대로 자연수 형태로 주어진다.\n",
    "(1<=K<=M)\n",
    "\n",
    "입력예시\n",
    "5 3\n",
    "1 3 2 3 2\n",
    "\n",
    "출력예시\n",
    "8"
   ]
  },
  {
   "cell_type": "code",
   "execution_count": null,
   "metadata": {},
   "outputs": [
    {
     "name": "stdout",
     "output_type": "stream",
     "text": [
      "25\n"
     ]
    }
   ],
   "source": [
    "from collections import Counter\n",
    "import math\n",
    "\n",
    "n,m = map(int,input().split())\n",
    "ball = list(map(int,input().split()))\n",
    "all_n = n*(n-1)/2\n",
    "same =0\n",
    "for key,value in Counter(ball).items():\n",
    "    if value>1:\n",
    "        same += math.comb(value,2)\n",
    "\n",
    "result = all_n - same\n",
    "print(result)\n"
   ]
  },
  {
   "cell_type": "markdown",
   "metadata": {},
   "source": [
    "### 문제풀이\n",
    "1. A가 선택한 공이 바뀔때마다 B가 선택한 수는 앞전의 경우를 제외\n",
    "2. 볼링공의 무게가 1부터 10까지만 존재한다고 명시되어 있어 하나의 리스트를 선언\n",
    "* 딕셔너리는 각 키와 값에 대해 해시계산, 포인터, 추가 내부 구조를 갖기 때문에 동일한 수의 정수를 저장하는 고정크기 배열보다 메모리 오버헤드가 더 크다."
   ]
  },
  {
   "cell_type": "code",
   "execution_count": null,
   "metadata": {},
   "outputs": [],
   "source": [
    "n,m = map(int, input().split())\n",
    "data=list(map(int,input().split()))\n",
    "\n",
    "# 무게별 카운트를 위한 배열\n",
    "array = [0]*10\n",
    "\n",
    "for i in data:\n",
    "    array[i] += 1\n",
    "\n",
    "result = 0\n",
    "for j in range(1,m+1):\n",
    "    n -= array[j]\n",
    "    result += array[j]*n\n",
    "\n",
    "print(result)"
   ]
  },
  {
   "cell_type": "markdown",
   "metadata": {},
   "source": [
    "### 6. 무지의 먹방 라이브\n",
    "\n",
    "회전판에 먹어야할 N개의 음식이 있다. 각 음식은 1부터 N까지 번호가 있으며, 음식은 1번부터 먹고, 음식 하나는 1초동안 섭취 후 다음 음식을 먹어야 한다.\n",
    "K초 후 잠시 중단된다면, 몇 번째 음식부터 다시 섭취하면 되는지 return하도록 함수를 작성해라.\n",
    "만약 더 섭취할 음식이 없다면 -1을 반환한다.\n",
    "\n",
    "food_times는 각 음식을 모두 먹는데 필요한 시간이 음식 번호 순서대로 들어있는 배열이다.\n",
    "1<=len(food_times)<=2000, food_times의 원소는 1이상 1000이하의 자연수, 1<=k<=,2000,000 wkdustn\n",
    "\n",
    "입력예시\n",
    "food_times=[3,1,2]\n",
    "k=5\n",
    "\n",
    "출력예시\n",
    "1\n",
    "\n",
    "기출:2019 카카오 신입공채\n",
    "https://school.programmers.co.kr/learn/courses/30/lessons/42891"
   ]
  },
  {
   "cell_type": "code",
   "execution_count": null,
   "metadata": {},
   "outputs": [],
   "source": []
  }
 ],
 "metadata": {
  "kernelspec": {
   "display_name": "test",
   "language": "python",
   "name": "python3"
  },
  "language_info": {
   "codemirror_mode": {
    "name": "ipython",
    "version": 3
   },
   "file_extension": ".py",
   "mimetype": "text/x-python",
   "name": "python",
   "nbconvert_exporter": "python",
   "pygments_lexer": "ipython3",
   "version": "3.12.8"
  }
 },
 "nbformat": 4,
 "nbformat_minor": 2
}
