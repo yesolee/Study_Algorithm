{
 "cells": [
  {
   "cell_type": "markdown",
   "metadata": {},
   "source": [
    "### 1. 모험가 길드\n",
    "\n",
    "공포도가 X인 모험가는 반드시 X명 이상으로 구성한 모험가 그룹에 참여해야 여행을 떠날 수 있다.\n",
    "N명에 대한 모험가 정보가 주어졌을 때, 최대 몇 개의 모험가 그룹을 만들 수 있는가?\n",
    "\n",
    "이때, 공포도가 X인 모험가는 반드시 X명 이상으로 구성한 모험가 그룹에 참여해야 여행을 떠날 수 있다.\n",
    "첫째 줄에 모험가의 수 N이 주어진다.(1<=N<=100,000)\n",
    "둘째 줄에 각 모험가의 공포도의 값을 N 이하의 수로 주어지며, 각 자연수는 공백으로 구분한다.\n",
    "또한 몇 명의 모험가는 마을에 그대로 남아 있어도 되기 때문에, 모든 모험가를 특정한 그룹에 넣을 필요는 없다\n",
    "\n",
    "입력예시\n",
    "5\n",
    "2 3 1 2 2\n",
    "\n",
    "출력예시\n",
    "2\n",
    "\n",
    "\n",
    "시간제한 1초, 메모리 제한 128M, 기출: 핵심유형"
   ]
  },
  {
   "cell_type": "code",
   "execution_count": null,
   "metadata": {},
   "outputs": [
    {
     "name": "stdout",
     "output_type": "stream",
     "text": [
      "2\n"
     ]
    }
   ],
   "source": [
    "# 나의 풀이\n",
    "N = input()\n",
    "member = list(map(int, input().split()))\n",
    "member.sort(reverse=True)\n",
    "\n",
    "count= 0\n",
    "\n",
    "while member:\n",
    "    i=member[0]\n",
    "    if len(member)==i:\n",
    "        count += 1\n",
    "        member = []\n",
    "    elif len(member)>i:\n",
    "        member = member[i:]\n",
    "        count += 1\n",
    "    else:\n",
    "        member=member[1:]\n",
    "\n",
    "print(count)"
   ]
  },
  {
   "cell_type": "markdown",
   "metadata": {},
   "source": [
    "### 문제풀이\n",
    "1. 내림차순이 아니라 오름차순으로 시작해야 최소한의 모험가의 수만 포함해 최대한 많은 그룹을 구성할 수 있다.\n",
    "2. 4 1 1 1 1의 경우, 나의 풀이는 2개지만, 오름차순 정렬하면 4개의 그룹을 만들 수 있다."
   ]
  },
  {
   "cell_type": "code",
   "execution_count": null,
   "metadata": {},
   "outputs": [],
   "source": [
    "# 교재 답안\n",
    "N = input()\n",
    "member = list(map(int, input().split()))\n",
    "member.sort()\n",
    "\n",
    "result=0 # 총 그룹의 수\n",
    "count=0 # 현재 그룹에 포함된 모험가의 수\n",
    "\n",
    "for i in member:\n",
    "    count += 1\n",
    "    if count >= i:\n",
    "        result += 1\n",
    "        count = 0\n",
    "\n",
    "print(result)"
   ]
  },
  {
   "cell_type": "markdown",
   "metadata": {},
   "source": [
    "### 2. 곱하기 혹은 더하기\n",
    "\n",
    "각 자리가 숫자(0~9)로 이루어진 문자열 S가 주어졌을 때, 숫자 사이에 X혹은 +연산자를 넣어 만들 수 있는 가장 큰 수를 구해라.\n",
    "단, +보다 X를 먼저 계산하는 일반적인 방식과 달리, 왼쪽에서부터 순서대로 이루어진다 (1<=S<=20)\n",
    "\n",
    "입력예시\n",
    "02984\n",
    "\n",
    "출력예시\n",
    "576\n",
    "\n",
    "시간제한 1초, 메모리 제한 128M, 기출: Facebook 인터뷰"
   ]
  },
  {
   "cell_type": "code",
   "execution_count": null,
   "metadata": {},
   "outputs": [
    {
     "name": "stdout",
     "output_type": "stream",
     "text": [
      "576\n"
     ]
    }
   ],
   "source": [
    "# 나의 풀이\n",
    "# 1. 0이 나올때만 + 나머지는 X 해야 큰 값이 나올 것이다\n",
    "# 2. 왼쪽부터 계산하기 때문에 앞의 합이 0보다 크면 0이 와도 *가 나올 수 있다.\n",
    "# 3. 합의 누계가 0이 아니라면 X를 하면 된다\n",
    "\n",
    "s = input()\n",
    "result = 0\n",
    "for i in s:\n",
    "    if result*int(i):\n",
    "        result *= int(i)\n",
    "    else:\n",
    "        result += int(i)\n",
    "\n",
    "print(result)"
   ]
  },
  {
   "cell_type": "markdown",
   "metadata": {},
   "source": [
    "### 문제풀이\n",
    "1. 1을 생각 못했다. 1을 만나면 곱하기보다 더하기가 유리하다.\n",
    "2. 바로 곱하지 않고, 두 수의 크기를 확인하고 연산"
   ]
  },
  {
   "cell_type": "code",
   "execution_count": 8,
   "metadata": {},
   "outputs": [
    {
     "name": "stdout",
     "output_type": "stream",
     "text": [
      "180\n"
     ]
    }
   ],
   "source": [
    "s = input()\n",
    "result = int(s[0])\n",
    "for i in range(1,len(s)):\n",
    "    num = int(s[i])\n",
    "    if num <=1 or result <= 1:\n",
    "        result += num\n",
    "    else:\n",
    "        result *= num\n",
    "\n",
    "print(result)"
   ]
  },
  {
   "cell_type": "markdown",
   "metadata": {},
   "source": [
    "### 3. 문자열 뒤집기\n",
    "\n",
    "0과 1로만 이루어진 문자열 S, S의 길이는 100만보다 작다.\n",
    "S에 있는 모든 숫자를 전부 같게 만들려고 한다. \n",
    "연속된 하나 이상의 숫자를 뒤집어 (0을 1로 또는 1을 0으로) 모두 같은 숫자로 만들 때 최소 횟수는?\n",
    "\n",
    "입력 예시\n",
    "0001100\n",
    "\n",
    "출력예시\n",
    "1\n",
    "\n",
    "시간제한 2초, 메모리제한 128MB, 기출: 핵심유형\n"
   ]
  },
  {
   "cell_type": "code",
   "execution_count": 5,
   "metadata": {},
   "outputs": [
    {
     "name": "stdout",
     "output_type": "stream",
     "text": [
      "1\n"
     ]
    }
   ],
   "source": [
    "# 나의 풀이\n",
    "s = input()\n",
    "\n",
    "from collections import Counter\n",
    "n = Counter(s)\n",
    "n0=n.get('0',0)\n",
    "n1=n.get('1',0)\n",
    "\n",
    "min_num = '0' if n0<n1 else '1'\n",
    "\n",
    "result = s[0]\n",
    "num = s[0]\n",
    "for i in range(1,len(s)):\n",
    "    if num == s[i]:\n",
    "        result += s[i]\n",
    "    else:\n",
    "        result = result+\" \"+s[i]\n",
    "        num = s[i]\n",
    "\n",
    "result = result.split()\n",
    "count = 0\n",
    "for i in result:\n",
    "    if i[0] == min_num:\n",
    "        count += 1\n",
    "\n",
    "print(count)\n"
   ]
  },
  {
   "cell_type": "markdown",
   "metadata": {},
   "source": [
    "### 문제 풀이\n",
    "\n",
    "1. 반례 : 11001100110011000001\n",
    "2. for문 안에서 문자열을 누적 연결하면, 문자열 길이가 매우 긴 경우 시간복잡도가 O(n2)로 증가할 수 있다.\n",
    "\n"
   ]
  },
  {
   "cell_type": "code",
   "execution_count": null,
   "metadata": {},
   "outputs": [
    {
     "name": "stdout",
     "output_type": "stream",
     "text": [
      "2\n"
     ]
    }
   ],
   "source": [
    "data = input()\n",
    "count0 = 0\n",
    "count1 = 0\n",
    "\n",
    "if data[0] == '1':\n",
    "    count0 += 1\n",
    "else:\n",
    "    count1 += 1\n",
    "\n",
    "for i in range(len(data)-1):\n",
    "    if data[i] != data[i+1]:\n",
    "        if data[i+1] == '1':\n",
    "            count0 += 1\n",
    "        else:\n",
    "            count1 += 1\n",
    "\n",
    "print(min(count0, count1))"
   ]
  }
 ],
 "metadata": {
  "kernelspec": {
   "display_name": "test",
   "language": "python",
   "name": "python3"
  },
  "language_info": {
   "codemirror_mode": {
    "name": "ipython",
    "version": 3
   },
   "file_extension": ".py",
   "mimetype": "text/x-python",
   "name": "python",
   "nbconvert_exporter": "python",
   "pygments_lexer": "ipython3",
   "version": "3.12.8"
  }
 },
 "nbformat": 4,
 "nbformat_minor": 2
}
