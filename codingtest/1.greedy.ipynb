{
 "cells": [
  {
   "cell_type": "markdown",
   "metadata": {},
   "source": [
    "# 1. 그리디\n",
    "\n",
    "## 1. 큰 수의 법칙\n",
    "\n",
    "다양한 수로 이루어진 배열이 있을 때 주어진 수들을 M번 더하여 가장 큰 수를 만드는 법칙\n",
    "단, 배열의 특정한 인덱스에 해당하는 수가 연속해서 K번을 초과하여 더해질 수 없다\n",
    "입력으로 주어지는 K는 항상 M보다 작거나 같다.\n",
    "배열의 크기 N, 숫자가 더해지는 횟수 M, K가 주어질 때 큰 수의 법칙에 따른 결과는?\n",
    "\n",
    "2<=N<=1000, 1<=M<=10000, 1<=K<=10000\n",
    "\n",
    "입력예시\n",
    "5 8 3\n",
    "2 4 5 4 6 \n",
    "\n",
    "출력예시\n",
    "46\n",
    "\n",
    "예시풀이\n",
    "6+6+6+5+6+6+6+5=46\n",
    "\n",
    "풀이 시간 30분, 시간 제한 1초, 메모리 제한 128MB, 기출: 2019 국가 교육기관 코딩 테스트"
   ]
  },
  {
   "cell_type": "code",
   "execution_count": null,
   "metadata": {},
   "outputs": [
    {
     "name": "stdout",
     "output_type": "stream",
     "text": [
      "28\n"
     ]
    }
   ],
   "source": [
    "# 나의 풀이\n",
    "N, M, K = map(int, input().split())\n",
    "array = list(map(int, input().split()))\n",
    "array.sort(reverse=True) \n",
    "result = (M//(K+1))*(array[0]*K+array[1]) + (M%(K+1))*array[0]\n",
    "print(result)"
   ]
  },
  {
   "cell_type": "markdown",
   "metadata": {},
   "source": [
    "### 새로 알게 된 내용\n",
    "1. input()은 한 번에한줄만 읽어들인다.\n",
    "condition, array = input().split(\"\\n\")는 잘못된 풀이!\n",
    "2. map(int, input().split()) 으로 int로 바꿔주지 않으면 문자열이라서, 정렬 시 의도하지 않은대로 정렬 될 수 있음\n",
    "3. 공백을 기준으로 분리할 때는 split(\" \")을 명시하지 않고 split()으로 사용 가능\n",
    "4. 해당 배열을 더 이상 사용할 일이 없다면 sorted를 쓸 경우 메모리가 불필요하게 사용 될 수 있어 sort를 사용!\n",
    "5. 각 단계에서 최선의 선택이 누적(가장 큰 수 또는 두번재로 큰 수를 선택)되어 전체 합을 최대로 만드는 해를 구하는 문제이므로 그리디 문제이다!"
   ]
  },
  {
   "cell_type": "markdown",
   "metadata": {},
   "source": [
    "## 2. 숫자 카드 게임\n",
    "\n",
    "N*M 형태의 카드 배열에서 행을 선택하고, 그 중에서 가장 낮은 수의 카드를 선택\n",
    "최종적으로 가장 높은 숫자의 카드를 뽑아야 한다.\n",
    "\n",
    "첫째 주에 숫자 카드들이 놓인 행의 개수 N과 열의 갯수 M이 공백을 기준으로 하여 주어진다.\n",
    "1<=N, M<=100\n",
    "둘째 줄부터 N개의 줄에 걸쳐 각 카드에 적힌 숫자가 주어진다.\n",
    "각 숫자는 1이상 10,000이하의 자연수\n",
    "\n",
    "\n",
    "입력예시\n",
    "3 3\n",
    "3 1 2\n",
    "4 1 4\n",
    "2 2 2 \n",
    "\n",
    "출력예시 \n",
    "2\n",
    "\n",
    "예시풀이\n",
    "1번째 행의 가장작은숫자 1\n",
    "2번째 행의 가장작은 숫자 1\n",
    "3번째 행의 가장작은 숫자 2\n",
    "따라서 2가 가장 큰 숫자이므로 세번째 행을 선택해 2를 뽑아야 한다\n",
    "\n",
    "시간제한 1초, 메모리 제한 128MB, 기출: 2019 국가 교육기관 코딩 테스트"
   ]
  },
  {
   "cell_type": "code",
   "execution_count": null,
   "metadata": {},
   "outputs": [
    {
     "name": "stdout",
     "output_type": "stream",
     "text": [
      "3\n"
     ]
    }
   ],
   "source": [
    "# 나의 풀이 : 시간복잡도 O(N*M), 공간복잡도 O(N)\n",
    "N, M = map(int, input().split())\n",
    "array = []\n",
    "for _ in range(N):\n",
    "    array.append(min(map(int, input().split())))\n",
    "\n",
    "result = max(array)\n",
    "print(result)"
   ]
  },
  {
   "cell_type": "markdown",
   "metadata": {},
   "source": [
    "### 새로 알게 된 내용\n",
    "1. 모든 행의 최솟값을 저장했다가 한 번에 최댓값을 계산하고 있는데, 행이 많아질수록 메모리 사용량이 증가한다.\n",
    "2. 최소값만 저장하면 메모리사용량을 아낄수 있다\n",
    " 중간 결과를 저장할필요 없이 바로 처리할 수 있다.\n",
    "3. min 함수도 내부적으로 모든 원소를 한 번씩 순회하며 비교하기 때문에 for문이랑 같은 수의 비교 연산을 수행한다.\n",
    "4. iterator는 데이터를 한 번에 하나씩만 일고, 읽은 데이터를 처리하고 나면 메모리에서 지운다.\n",
    "(리스트는 모든숫자가 동시에 메모리에 저장됨)"
   ]
  },
  {
   "cell_type": "code",
   "execution_count": null,
   "metadata": {},
   "outputs": [],
   "source": [
    "# 교재 답안 : 시간복잡도 O(N*M), 공간복잡도 O(1)\n",
    "n, m = map(int, input().split())\n",
    "result = 0\n",
    "for i in range(n):\n",
    "    min_value = min(map(int, input().split()))\n",
    "    result = max(result, min_value)"
   ]
  },
  {
   "cell_type": "markdown",
   "metadata": {},
   "source": [
    "## 3. 1이 될때까지\n",
    "\n",
    "어떤 수 N이 1이 될 때까지 다음의 두 과정 중 하나를 반복적으로 선택하여 수행하려고 한다. 단, 두 번째 연산은 N이 K로 나누어떨어질 때만 선택할 수 있다.\n",
    "1. N에서 1을 뺀다\n",
    "2. N을 K로 나눈다\n",
    "\n",
    "첫째 줄에 2<=N<=100,000과 2<=K<=100,000가 공백으로 구분되며 각각 자연수로 주어진다. 이때 입력으로 주어지는 N은 항상 K보다 크거나 같다.\n",
    "\n",
    "N과 K가 주어질 때 N이 1이 될 때까지 1번 혹은 2번의 과정을 수행해야 하는 최소 횟수를 구하는 프로그램을 작성하시오.\n",
    "\n",
    "입력예시\n",
    "17 4\n",
    "\n",
    "출력예시\n",
    "3\n",
    "\n",
    "예시풀이\n",
    "17은 4로 나누어 떨어지지 않는다. 1번 연산 수행\n",
    "17-1 = 16\n",
    "16은 4로 나누어 떨어진다. 2번 연산 수행\n",
    "16 / 4 = 4\n",
    "4는 4로 나누어 떨어진다\n",
    "4/4 = 1\n",
    "\n",
    "총 3번 수행 답은 3\n",
    "\n",
    "시간 제한 1초, 메모리 제한 128MB, 기출: 2018 E 기업 알고리즘 대회"
   ]
  },
  {
   "cell_type": "code",
   "execution_count": null,
   "metadata": {},
   "outputs": [
    {
     "name": "stdout",
     "output_type": "stream",
     "text": [
      "2\n"
     ]
    }
   ],
   "source": [
    "N,K = map(int, input().split())\n",
    "result = 0\n",
    "\n",
    "while N > 1:\n",
    "    if N%K == 0:\n",
    "        N = N//K\n",
    "        result += 1\n",
    "    else:\n",
    "        N -= 1\n",
    "        result += 1\n",
    "print(result)"
   ]
  },
  {
   "cell_type": "markdown",
   "metadata": {},
   "source": []
  },
  {
   "cell_type": "markdown",
   "metadata": {},
   "source": [
    "### 새로 알게 된 내용\n",
    "1. N의 범위가 100억 이상의 큰 수 가 되는 경우, 한번에 하나씩 1을 빼는 것 보다는 한번에 빼고 카운트하는것이 효율적이다."
   ]
  },
  {
   "cell_type": "code",
   "execution_count": null,
   "metadata": {},
   "outputs": [],
   "source": [
    "n,k = map(int, input().split())\n",
    "result = 0\n",
    "while True:\n",
    "    target = (n//k) * k\n",
    "    result += (n-target)\n",
    "    n = target\n",
    "    if n<k:\n",
    "        break\n",
    "    result += 1\n",
    "    n//=k\n",
    "\n",
    "result += (n-1)\n",
    "print(result)"
   ]
  }
 ],
 "metadata": {
  "kernelspec": {
   "display_name": "test",
   "language": "python",
   "name": "python3"
  },
  "language_info": {
   "codemirror_mode": {
    "name": "ipython",
    "version": 3
   },
   "file_extension": ".py",
   "mimetype": "text/x-python",
   "name": "python",
   "nbconvert_exporter": "python",
   "pygments_lexer": "ipython3",
   "version": "3.12.8"
  }
 },
 "nbformat": 4,
 "nbformat_minor": 2
}
